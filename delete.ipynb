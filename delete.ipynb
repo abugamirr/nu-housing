{
 "cells": [
  {
   "cell_type": "code",
   "execution_count": 2,
   "metadata": {},
   "outputs": [],
   "source": [
    "from models_refactored import *\n",
    "from populator_refactored import Populator\n",
    "nu = Dormitory(blocks={\n",
    "    22: Dormitory.Block(22, [2, 12], [1, 28], 3),\n",
    "    23: Dormitory.Block(23, [2, 12], [1, 28], 2),\n",
    "    24: Dormitory.Block(24, [2, 12], [1, 28], 2),\n",
    "    25: Dormitory.Block(25, [2, 12], [1, 28], 2),\n",
    "    26: Dormitory.Block(26, [2, 12], [1, 28], 2),\n",
    "    27: Dormitory.Block(27, [2, 12], [1, 28], 2),\n",
    "    })\n",
    "populator = Populator(nu)"
   ]
  },
  {
   "cell_type": "code",
   "execution_count": 3,
   "metadata": {},
   "outputs": [
    {
     "name": "stdout",
     "output_type": "stream",
     "text": [
      "23.1028:\n",
      "    Added Student 202121674\n",
      "24.1111:\n",
      "    Added Student 201923881\n",
      "25.1115:\n",
      "    Added Student 202029456\n",
      "26.1110:\n",
      "    Added Student 201917129\n",
      "27.519:\n",
      "    Added Student 202119283\n",
      "23.1007:\n",
      "    Added Student 202016789\n",
      "24.1027:\n",
      "    Added Student 201929456\n",
      "25.505:\n",
      "    Added Student 202031974\n",
      "26.415:\n",
      "    Added Student 202114567\n",
      "27.903:\n",
      "    Added Student 201922256\n"
     ]
    }
   ],
   "source": [
    "populator.update_dorm('rooms.xlsx')"
   ]
  },
  {
   "cell_type": "code",
   "execution_count": 4,
   "metadata": {},
   "outputs": [
    {
     "data": {
      "text/plain": [
       "([202031974, 201922256],\n",
       " [202107823, 202015678, 202121134, 202021479, 202031123, 202013756, 202021013])"
      ]
     },
     "execution_count": 4,
     "metadata": {},
     "output_type": "execute_result"
    }
   ],
   "source": [
    "populator.read_students_to_accommodate('students.xlsx')\n"
   ]
  },
  {
   "cell_type": "code",
   "execution_count": 5,
   "metadata": {},
   "outputs": [
    {
     "name": "stdout",
     "output_type": "stream",
     "text": [
      "Student 202031974 match will be destroyed.\n",
      "    Reason: Gender match error. Student 202031974 or Roommate 202015678 have different genders.\n",
      "Student 202015678 match will be destroyed.\n",
      "    Reason: Gender match error. Student 202015678 or Roommate 202031974 have different genders.\n"
     ]
    }
   ],
   "source": [
    "populator.match_roommates()"
   ]
  },
  {
   "cell_type": "code",
   "execution_count": 7,
   "metadata": {},
   "outputs": [
    {
     "name": "stdout",
     "output_type": "stream",
     "text": [
      "202121674 []\n",
      "201923881 []\n",
      "202029456 []\n",
      "201917129 []\n",
      "202119283 []\n",
      "202016789 []\n",
      "201929456 []\n",
      "202031974 []\n",
      "202114567 []\n",
      "201922256 [202107823]\n",
      "202107823 [201922256]\n",
      "202015678 []\n",
      "202121134 [202013756]\n",
      "202021479 [202021013]\n",
      "202031123 []\n",
      "202013756 [202121134]\n",
      "202021013 [202021479]\n"
     ]
    }
   ],
   "source": [
    "for student in populator.students.values():\n",
    "    print(student.id, student.intended_roommate_ids)"
   ]
  },
  {
   "cell_type": "code",
   "execution_count": null,
   "metadata": {},
   "outputs": [],
   "source": []
  }
 ],
 "metadata": {
  "kernelspec": {
   "display_name": "base",
   "language": "python",
   "name": "python3"
  },
  "language_info": {
   "codemirror_mode": {
    "name": "ipython",
    "version": 3
   },
   "file_extension": ".py",
   "mimetype": "text/x-python",
   "name": "python",
   "nbconvert_exporter": "python",
   "pygments_lexer": "ipython3",
   "version": "3.10.9"
  },
  "orig_nbformat": 4
 },
 "nbformat": 4,
 "nbformat_minor": 2
}
